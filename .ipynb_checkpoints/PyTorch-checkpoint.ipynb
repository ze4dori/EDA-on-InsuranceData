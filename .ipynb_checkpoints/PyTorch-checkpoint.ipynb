{
 "cells": [
  {
   "cell_type": "code",
   "execution_count": 1,
   "id": "9a7805f5",
   "metadata": {},
   "outputs": [],
   "source": [
    "from sklearn.model_selection import train_test_split\n",
    "from sklearn.preprocessing import MinMaxScaler\n",
    "import pandas as pd\n",
    "import matplotlib.pyplot as plt\n",
    "import numpy as np\n",
    "import seaborn as sns\n",
    "import torch\n",
    "\n",
    "data = pd.read_csv('https://github.com/stedy/Machine-Learning-with-R-datasets/blob/master/insurance.csv?raw=true')"
   ]
  },
  {
   "cell_type": "code",
   "execution_count": 2,
   "id": "d92464d0",
   "metadata": {},
   "outputs": [
    {
     "data": {
      "text/plain": [
       "Text(0.5, 1.0, 'Distribution of Charges')"
      ]
     },
     "execution_count": 2,
     "metadata": {},
     "output_type": "execute_result"
    },
    {
     "data": {
      "image/png": "[encoded data removed]",
      "text/plain": [
       "<Figure size 640x480 with 1 Axes>"
      ]
     },
     "metadata": {},
     "output_type": "display_data"
    }
   ],
   "source": [
    "plt.hist(data.charges)\n",
    "plt.title(\"Distribution of Charges\")"
   ]
  },
  {
   "cell_type": "markdown",
   "id": "e9c94eb5",
   "metadata": {},
   "source": [
    "Перед нами задача регрессии."
   ]
  },
  {
   "cell_type": "markdown",
   "id": "34931f43",
   "metadata": {},
   "source": [
    "## 1. Предобработка данных"
   ]
  },
  {
   "cell_type": "markdown",
   "id": "a9f725fc",
   "metadata": {},
   "source": [
    "### Логарифмирование"
   ]
  },
  {
   "cell_type": "code",
   "execution_count": 3,
   "id": "46748904",
   "metadata": {},
   "outputs": [
    {
     "data": {
      "text/plain": [
       "Text(0.5, 1.0, 'Distribution of Charges')"
      ]
     },
     "execution_count": 3,
     "metadata": {},
     "output_type": "execute_result"
    },
    {
     "data": {
      "image/png": "[encoded data removed]",
      "text/plain": [
       "<Figure size 640x480 with 1 Axes>"
      ]
     },
     "metadata": {},
     "output_type": "display_data"
    }
   ],
   "source": [
    "data['charges'] = np.log(data['charges'])\n",
    "\n",
    "plt.hist(data.charges)\n",
    "plt.title(\"Distribution of Charges\")"
   ]
  },
  {
   "cell_type": "code",
   "execution_count": 4,
   "id": "e3f679a9",
   "metadata": {},
   "outputs": [
    {
     "data": {
      "text/html": [
       "<div>\n",
       "<style scoped>\n",
       "    .dataframe tbody tr th:only-of-type {\n",
       "        vertical-align: middle;\n",
       "    }\n",
       "\n",
       "    .dataframe tbody tr th {\n",
       "        vertical-align: top;\n",
       "    }\n",
       "\n",
       "    .dataframe thead th {\n",
       "        text-align: right;\n",
       "    }\n",
       "</style>\n",
       "<table border=\"1\" class=\"dataframe\">\n",
       "  <thead>\n",
       "    <tr style=\"text-align: right;\">\n",
       "      <th></th>\n",
       "      <th>age</th>\n",
       "      <th>sex</th>\n",
       "      <th>bmi</th>\n",
       "      <th>children</th>\n",
       "      <th>smoker</th>\n",
       "      <th>region</th>\n",
       "      <th>charges</th>\n",
       "    </tr>\n",
       "  </thead>\n",
       "  <tbody>\n",
       "    <tr>\n",
       "      <th>0</th>\n",
       "      <td>19</td>\n",
       "      <td>female</td>\n",
       "      <td>27.90</td>\n",
       "      <td>0</td>\n",
       "      <td>yes</td>\n",
       "      <td>southwest</td>\n",
       "      <td>9.734176</td>\n",
       "    </tr>\n",
       "    <tr>\n",
       "      <th>1</th>\n",
       "      <td>18</td>\n",
       "      <td>male</td>\n",
       "      <td>33.77</td>\n",
       "      <td>1</td>\n",
       "      <td>no</td>\n",
       "      <td>southeast</td>\n",
       "      <td>7.453302</td>\n",
       "    </tr>\n",
       "    <tr>\n",
       "      <th>2</th>\n",
       "      <td>28</td>\n",
       "      <td>male</td>\n",
       "      <td>33.00</td>\n",
       "      <td>3</td>\n",
       "      <td>no</td>\n",
       "      <td>southeast</td>\n",
       "      <td>8.400538</td>\n",
       "    </tr>\n",
       "  </tbody>\n",
       "</table>\n",
       "</div>"
      ],
      "text/plain": [
       "   age     sex    bmi  children smoker     region   charges\n",
       "0   19  female  27.90         0    yes  southwest  9.734176\n",
       "1   18    male  33.77         1     no  southeast  7.453302\n",
       "2   28    male  33.00         3     no  southeast  8.400538"
      ]
     },
     "execution_count": 4,
     "metadata": {},
     "output_type": "execute_result"
    }
   ],
   "source": [
    "data.head(3)"
   ]
  },
  {
   "cell_type": "markdown",
   "id": "003e5dc9",
   "metadata": {},
   "source": [
    "### Проверка и ликвидация пропусков"
   ]
  },
  {
   "cell_type": "code",
   "execution_count": 5,
   "id": "2ae69cc8",
   "metadata": {},
   "outputs": [
    {
     "data": {
      "text/plain": [
       "age         0\n",
       "sex         0\n",
       "bmi         0\n",
       "children    0\n",
       "smoker      0\n",
       "region      0\n",
       "charges     0\n",
       "dtype: int64"
      ]
     },
     "execution_count": 5,
     "metadata": {},
     "output_type": "execute_result"
    }
   ],
   "source": [
    "data.isnull().sum()"
   ]
  },
  {
   "cell_type": "markdown",
   "id": "3af98eb7",
   "metadata": {},
   "source": [
    "### Кодирование категориальных данных"
   ]
  },
  {
   "cell_type": "code",
   "execution_count": 6,
   "id": "e1ba3fee",
   "metadata": {},
   "outputs": [],
   "source": [
    "from sklearn.preprocessing import LabelEncoder\n",
    "\n",
    "data['sex'] = LabelEncoder().fit_transform(data['sex'])\n",
    "data['smoker'] = LabelEncoder().fit_transform(data['smoker'])\n",
    "\n",
    "data_region = pd.get_dummies(data['region']).astype(int)\n",
    "data = pd.concat([data, data_region], axis=1)"
   ]
  },
  {
   "cell_type": "markdown",
   "id": "023e53a9",
   "metadata": {},
   "source": [
    "### Разделение выборки на тренировочную и тестовую"
   ]
  },
  {
   "cell_type": "code",
   "execution_count": 7,
   "id": "1193dd5c",
   "metadata": {},
   "outputs": [],
   "source": [
    "X = data.drop(['charges', 'region'], axis=1)\n",
    "y = data['charges']\n",
    "\n",
    "X_train, X_test, y_train, y_test = train_test_split(X, y, test_size = 0.2)"
   ]
  },
  {
   "cell_type": "code",
   "execution_count": 8,
   "id": "7c80138a",
   "metadata": {},
   "outputs": [
    {
     "name": "stdout",
     "output_type": "stream",
     "text": [
      "X_train shape: (1070, 9)\n",
      "X_test shape: (268, 9)\n",
      "y_train shape: (1070,)\n",
      "y_test shape: (268,)\n"
     ]
    }
   ],
   "source": [
    "print(\"X_train shape:\", X_train.shape)\n",
    "print(\"X_test shape:\", X_test.shape)\n",
    "print(\"y_train shape:\", y_train.shape)\n",
    "print(\"y_test shape:\", y_test.shape)"
   ]
  },
  {
   "cell_type": "markdown",
   "id": "e5375782",
   "metadata": {},
   "source": [
    "### Нормирование численных переменных"
   ]
  },
  {
   "cell_type": "code",
   "execution_count": 9,
   "id": "a9d622f5",
   "metadata": {},
   "outputs": [],
   "source": [
    "scaler = MinMaxScaler()\n",
    "\n",
    "X_train = scaler.fit_transform(X_train)\n",
    "X_test = scaler.transform(X_test)"
   ]
  },
  {
   "cell_type": "markdown",
   "id": "3d8727da",
   "metadata": {},
   "source": []
  },
  {
   "cell_type": "code",
   "execution_count": 10,
   "id": "ac2d762c",
   "metadata": {},
   "outputs": [],
   "source": [
    "X_train_df = pd.DataFrame(X_train)\n",
    "y_train_df = pd.DataFrame(y_train)\n",
    "X_test_df = pd.DataFrame(X_test)\n",
    "y_test_df = pd.DataFrame(y_test)"
   ]
  },
  {
   "cell_type": "markdown",
   "id": "0270f5f9",
   "metadata": {},
   "source": [
    "## 2. Класс Datasets"
   ]
  },
  {
   "cell_type": "code",
   "execution_count": 11,
   "id": "c14c1cf2",
   "metadata": {},
   "outputs": [],
   "source": [
    "import torch\n",
    "from torch.utils.data import Dataset, DataLoader"
   ]
  },
  {
   "cell_type": "code",
   "execution_count": 12,
   "id": "e097f0c8",
   "metadata": {},
   "outputs": [],
   "source": [
    "class CustomDataset(Dataset):\n",
    "    def __init__(self, data, targets):\n",
    "        self.data = data.select_dtypes(include=[np.number])\n",
    "        self.targets = targets\n",
    "\n",
    "    def __len__(self):\n",
    "        return len(self.data)\n",
    "\n",
    "    def __getitem__(self, index):\n",
    "        x = torch.tensor(self.data.iloc[index], dtype=torch.float32)\n",
    "        y = torch.tensor(self.targets.iloc[index], dtype=torch.float32)\n",
    "\n",
    "        return x, y"
   ]
  },
  {
   "cell_type": "code",
   "execution_count": 13,
   "id": "a022a21a",
   "metadata": {},
   "outputs": [],
   "source": [
    "train_dataset = CustomDataset(X_train_df, y_train_df)\n",
    "test_dataset = CustomDataset(X_test_df, y_test_df)"
   ]
  },
  {
   "cell_type": "code",
   "execution_count": 14,
   "id": "8258d5d8",
   "metadata": {},
   "outputs": [],
   "source": [
    "train_loader = DataLoader(train_dataset, batch_size=64, shuffle=True)\n",
    "test_loader = DataLoader(test_dataset, batch_size=64, shuffle=False)"
   ]
  },
  {
   "cell_type": "code",
   "execution_count": 15,
   "id": "d25b499a",
   "metadata": {},
   "outputs": [
    {
     "name": "stdout",
     "output_type": "stream",
     "text": [
      "inputs: tensor([[0.9565, 1.0000, 0.4345, 0.0000, 0.0000, 1.0000, 0.0000, 0.0000, 0.0000],\n",
      "        [0.6957, 1.0000, 0.2863, 0.0000, 0.0000, 0.0000, 0.0000, 0.0000, 1.0000],\n",
      "        [0.1304, 0.0000, 0.1227, 0.0000, 1.0000, 1.0000, 0.0000, 0.0000, 0.0000],\n",
      "        [0.9565, 0.0000, 0.4638, 0.0000, 0.0000, 0.0000, 0.0000, 0.0000, 1.0000],\n",
      "        [0.8478, 1.0000, 0.0639, 0.0000, 0.0000, 1.0000, 0.0000, 0.0000, 0.0000],\n",
      "        [0.6957, 1.0000, 0.2811, 0.0000, 0.0000, 0.0000, 1.0000, 0.0000, 0.0000],\n",
      "        [0.8913, 0.0000, 0.3193, 0.6000, 0.0000, 0.0000, 0.0000, 1.0000, 0.0000],\n",
      "        [0.1739, 1.0000, 0.3041, 0.6000, 0.0000, 1.0000, 0.0000, 0.0000, 0.0000],\n",
      "        [0.5870, 0.0000, 0.4019, 0.4000, 0.0000, 0.0000, 0.0000, 0.0000, 1.0000],\n",
      "        [0.3913, 0.0000, 0.1048, 0.0000, 0.0000, 1.0000, 0.0000, 0.0000, 0.0000],\n",
      "        [0.4783, 0.0000, 0.1684, 0.4000, 1.0000, 0.0000, 0.0000, 1.0000, 0.0000],\n",
      "        [0.0217, 0.0000, 0.2326, 0.2000, 0.0000, 0.0000, 1.0000, 0.0000, 0.0000],\n",
      "        [0.0000, 0.0000, 0.4294, 0.0000, 0.0000, 1.0000, 0.0000, 0.0000, 0.0000],\n",
      "        [0.6304, 1.0000, 0.5445, 0.2000, 0.0000, 0.0000, 0.0000, 0.0000, 1.0000],\n",
      "        [0.3913, 1.0000, 0.4969, 0.0000, 1.0000, 0.0000, 0.0000, 1.0000, 0.0000],\n",
      "        [0.2391, 0.0000, 0.1559, 0.2000, 1.0000, 1.0000, 0.0000, 0.0000, 0.0000],\n",
      "        [0.1087, 0.0000, 0.3323, 0.0000, 1.0000, 0.0000, 1.0000, 0.0000, 0.0000],\n",
      "        [0.0000, 1.0000, 0.1950, 0.0000, 0.0000, 0.0000, 0.0000, 1.0000, 0.0000],\n",
      "        [0.5652, 1.0000, 0.5687, 0.4000, 0.0000, 0.0000, 0.0000, 0.0000, 1.0000],\n",
      "        [0.4130, 1.0000, 0.5443, 0.0000, 0.0000, 0.0000, 0.0000, 1.0000, 0.0000],\n",
      "        [0.1522, 1.0000, 0.2888, 0.8000, 0.0000, 0.0000, 1.0000, 0.0000, 0.0000],\n",
      "        [0.3261, 0.0000, 0.0683, 0.2000, 0.0000, 0.0000, 0.0000, 0.0000, 1.0000],\n",
      "        [0.3261, 1.0000, 0.4703, 1.0000, 0.0000, 0.0000, 0.0000, 1.0000, 0.0000],\n",
      "        [0.3043, 0.0000, 0.2324, 0.0000, 1.0000, 0.0000, 0.0000, 0.0000, 1.0000],\n",
      "        [0.0000, 0.0000, 0.3297, 0.0000, 0.0000, 1.0000, 0.0000, 0.0000, 0.0000],\n",
      "        [0.5000, 0.0000, 0.1559, 0.2000, 0.0000, 1.0000, 0.0000, 0.0000, 0.0000],\n",
      "        [0.4130, 0.0000, 0.5069, 0.4000, 1.0000, 0.0000, 0.0000, 0.0000, 1.0000],\n",
      "        [0.9783, 1.0000, 0.3992, 0.0000, 0.0000, 0.0000, 0.0000, 0.0000, 1.0000],\n",
      "        [0.2391, 1.0000, 0.3680, 0.2000, 0.0000, 1.0000, 0.0000, 0.0000, 0.0000],\n",
      "        [0.1739, 0.0000, 0.3450, 0.0000, 0.0000, 1.0000, 0.0000, 0.0000, 0.0000],\n",
      "        [0.0217, 1.0000, 0.3195, 0.0000, 0.0000, 0.0000, 1.0000, 0.0000, 0.0000],\n",
      "        [0.1087, 1.0000, 0.0741, 0.0000, 0.0000, 0.0000, 1.0000, 0.0000, 0.0000],\n",
      "        [0.3261, 1.0000, 0.7129, 0.2000, 0.0000, 0.0000, 0.0000, 1.0000, 0.0000],\n",
      "        [0.5000, 0.0000, 0.4477, 0.6000, 0.0000, 0.0000, 0.0000, 0.0000, 1.0000],\n",
      "        [0.9130, 1.0000, 0.5648, 0.0000, 0.0000, 1.0000, 0.0000, 0.0000, 0.0000],\n",
      "        [0.0000, 0.0000, 0.6005, 0.0000, 0.0000, 0.0000, 0.0000, 1.0000, 0.0000],\n",
      "        [0.6304, 1.0000, 0.3297, 0.8000, 0.0000, 1.0000, 0.0000, 0.0000, 0.0000],\n",
      "        [0.3913, 1.0000, 0.5176, 0.2000, 1.0000, 0.0000, 0.0000, 1.0000, 0.0000],\n",
      "        [0.3478, 1.0000, 0.5342, 0.0000, 0.0000, 0.0000, 1.0000, 0.0000, 0.0000],\n",
      "        [0.5217, 0.0000, 0.2863, 0.0000, 1.0000, 0.0000, 1.0000, 0.0000, 0.0000],\n",
      "        [0.2826, 0.0000, 0.3535, 0.0000, 0.0000, 0.0000, 0.0000, 0.0000, 1.0000],\n",
      "        [0.9130, 0.0000, 0.5946, 0.0000, 0.0000, 0.0000, 0.0000, 1.0000, 0.0000],\n",
      "        [0.1304, 1.0000, 0.2070, 0.0000, 0.0000, 0.0000, 1.0000, 0.0000, 0.0000],\n",
      "        [0.2609, 1.0000, 0.4154, 0.2000, 0.0000, 0.0000, 0.0000, 0.0000, 1.0000],\n",
      "        [0.5217, 1.0000, 0.5338, 0.4000, 0.0000, 0.0000, 0.0000, 0.0000, 1.0000],\n",
      "        [0.9783, 0.0000, 0.4262, 0.0000, 0.0000, 0.0000, 0.0000, 0.0000, 1.0000],\n",
      "        [0.5652, 1.0000, 0.2530, 0.2000, 0.0000, 0.0000, 1.0000, 0.0000, 0.0000],\n",
      "        [0.4565, 1.0000, 0.7182, 0.0000, 0.0000, 1.0000, 0.0000, 0.0000, 0.0000],\n",
      "        [0.8913, 0.0000, 0.5531, 0.2000, 0.0000, 0.0000, 0.0000, 1.0000, 0.0000],\n",
      "        [0.3043, 0.0000, 0.1227, 0.0000, 0.0000, 1.0000, 0.0000, 0.0000, 0.0000],\n",
      "        [0.3478, 0.0000, 0.0818, 0.6000, 0.0000, 1.0000, 0.0000, 0.0000, 0.0000],\n",
      "        [0.7826, 0.0000, 0.4396, 0.2000, 0.0000, 1.0000, 0.0000, 0.0000, 0.0000],\n",
      "        [0.9783, 0.0000, 0.1917, 0.0000, 0.0000, 1.0000, 0.0000, 0.0000, 0.0000],\n",
      "        [0.8043, 1.0000, 0.4584, 0.0000, 0.0000, 0.0000, 0.0000, 1.0000, 0.0000],\n",
      "        [0.1087, 0.0000, 0.2224, 0.4000, 0.0000, 1.0000, 0.0000, 0.0000, 0.0000],\n",
      "        [0.0870, 0.0000, 0.3460, 0.0000, 0.0000, 0.0000, 0.0000, 1.0000, 0.0000],\n",
      "        [0.7174, 1.0000, 0.4673, 0.6000, 0.0000, 0.0000, 0.0000, 1.0000, 0.0000],\n",
      "        [0.7174, 0.0000, 0.5495, 0.6000, 0.0000, 0.0000, 1.0000, 0.0000, 0.0000],\n",
      "        [0.1087, 1.0000, 0.5687, 0.6000, 0.0000, 0.0000, 0.0000, 0.0000, 1.0000],\n",
      "        [0.7826, 0.0000, 0.4498, 0.0000, 0.0000, 1.0000, 0.0000, 0.0000, 0.0000],\n",
      "        [0.0000, 0.0000, 0.3553, 0.0000, 0.0000, 1.0000, 0.0000, 0.0000, 0.0000],\n",
      "        [0.6957, 0.0000, 0.2990, 0.2000, 0.0000, 1.0000, 0.0000, 0.0000, 0.0000],\n",
      "        [0.8261, 1.0000, 0.4345, 0.2000, 0.0000, 1.0000, 0.0000, 0.0000, 0.0000],\n",
      "        [0.3696, 0.0000, 0.4046, 0.2000, 0.0000, 0.0000, 0.0000, 0.0000, 1.0000]])\n",
      "targets: tensor([[ 9.5145],\n",
      "        [ 9.0413],\n",
      "        [ 9.5868],\n",
      "        [ 9.5077],\n",
      "        [ 9.3531],\n",
      "        [ 9.0856],\n",
      "        [ 9.5469],\n",
      "        [ 8.4470],\n",
      "        [ 9.0502],\n",
      "        [ 8.6048],\n",
      "        [ 9.8753],\n",
      "        [ 7.9044],\n",
      "        [ 7.6989],\n",
      "        [ 8.9957],\n",
      "        [10.5385],\n",
      "        [ 9.7206],\n",
      "        [ 9.8000],\n",
      "        [ 7.0228],\n",
      "        [ 8.9542],\n",
      "        [ 9.8634],\n",
      "        [ 8.4925],\n",
      "        [ 8.4693],\n",
      "        [ 8.8029],\n",
      "        [ 9.7697],\n",
      "        [ 7.6966],\n",
      "        [ 9.5270],\n",
      "        [10.5925],\n",
      "        [ 9.5023],\n",
      "        [ 9.9173],\n",
      "        [ 8.1272],\n",
      "        [ 7.3998],\n",
      "        [ 9.9802],\n",
      "        [ 9.3349],\n",
      "        [ 8.9815],\n",
      "        [ 9.4526],\n",
      "        [ 7.3975],\n",
      "        [ 9.2502],\n",
      "        [10.5638],\n",
      "        [ 8.3711],\n",
      "        [ 9.9687],\n",
      "        [ 8.2325],\n",
      "        [ 9.4453],\n",
      "        [ 7.7634],\n",
      "        [ 8.2050],\n",
      "        [ 8.8763],\n",
      "        [ 9.5383],\n",
      "        [ 8.9251],\n",
      "        [ 8.6582],\n",
      "        [10.2502],\n",
      "        [ 8.4216],\n",
      "        [ 8.8177],\n",
      "        [ 9.3512],\n",
      "        [ 9.5786],\n",
      "        [ 9.9418],\n",
      "        [10.0166],\n",
      "        [ 7.6764],\n",
      "        [ 9.2649],\n",
      "        [ 9.3446],\n",
      "        [ 8.1880],\n",
      "        [ 9.2987],\n",
      "        [ 8.8989],\n",
      "        [ 9.2209],\n",
      "        [ 9.3727],\n",
      "        [ 8.5642]])\n"
     ]
    }
   ],
   "source": [
    "for xb, yb in train_loader:\n",
    "    print(\"inputs:\", xb)\n",
    "    print(\"targets:\", yb)\n",
    "    break"
   ]
  },
  {
   "cell_type": "markdown",
   "id": "73f90c8b",
   "metadata": {},
   "source": [
    "## 3. Обучение на тренировочном множестве"
   ]
  },
  {
   "cell_type": "code",
   "execution_count": 16,
   "id": "937e0c26",
   "metadata": {},
   "outputs": [],
   "source": [
    "from torch import nn"
   ]
  },
  {
   "cell_type": "markdown",
   "id": "5f3f2dd0",
   "metadata": {},
   "source": [
    "### Однослойная нейросеть"
   ]
  },
  {
   "cell_type": "code",
   "execution_count": 17,
   "id": "ef0394dc",
   "metadata": {},
   "outputs": [],
   "source": [
    "input_size = 9\n",
    "output_size = 1\n",
    "learning_rate = 1e-2"
   ]
  },
  {
   "cell_type": "code",
   "execution_count": 18,
   "id": "92221ee1",
   "metadata": {},
   "outputs": [],
   "source": [
    "first_model = nn.Linear(input_size, output_size)"
   ]
  },
  {
   "cell_type": "code",
   "execution_count": 19,
   "id": "330fbffe",
   "metadata": {},
   "outputs": [],
   "source": [
    "loss_fn1 = nn.MSELoss()\n",
    "first_optimizer =  torch.optim.SGD(first_model.parameters(), lr=learning_rate)"
   ]
  },
  {
   "cell_type": "code",
   "execution_count": 20,
   "id": "c078a39c",
   "metadata": {},
   "outputs": [
    {
     "data": {
      "text/plain": [
       "Linear(in_features=9, out_features=1, bias=True)"
      ]
     },
     "execution_count": 20,
     "metadata": {},
     "output_type": "execute_result"
    }
   ],
   "source": [
    "first_model.train()"
   ]
  },
  {
   "cell_type": "code",
   "execution_count": 21,
   "id": "2ed0efcc",
   "metadata": {},
   "outputs": [],
   "source": [
    "num_epochs = 25"
   ]
  },
  {
   "cell_type": "code",
   "execution_count": 22,
   "id": "68d4a799",
   "metadata": {},
   "outputs": [],
   "source": [
    "train_losses = []\n",
    "test_losses = []"
   ]
  },
  {
   "cell_type": "code",
   "execution_count": 23,
   "id": "dda3199b",
   "metadata": {},
   "outputs": [
    {
     "name": "stdout",
     "output_type": "stream",
     "text": [
      "Epoch 1/25, Train Loss: 51.4801, Test Loss: 23.4419\n",
      "Epoch 2/25, Train Loss: 13.7986, Test Loss: 7.1574\n",
      "Epoch 3/25, Train Loss: 4.4772, Test Loss: 3.0071\n",
      "Epoch 4/25, Train Loss: 2.0948, Test Loss: 1.8495\n",
      "Epoch 5/25, Train Loss: 1.4095, Test Loss: 1.4564\n",
      "Epoch 6/25, Train Loss: 1.1588, Test Loss: 1.2716\n",
      "Epoch 7/25, Train Loss: 1.0243, Test Loss: 1.1482\n",
      "Epoch 8/25, Train Loss: 0.9275, Test Loss: 1.0504\n",
      "Epoch 9/25, Train Loss: 0.8475, Test Loss: 0.9690\n",
      "Epoch 10/25, Train Loss: 0.7796, Test Loss: 0.8985\n",
      "Epoch 11/25, Train Loss: 0.7208, Test Loss: 0.8368\n",
      "Epoch 12/25, Train Loss: 0.6691, Test Loss: 0.7813\n",
      "Epoch 13/25, Train Loss: 0.6234, Test Loss: 0.7334\n",
      "Epoch 14/25, Train Loss: 0.5835, Test Loss: 0.6912\n",
      "Epoch 15/25, Train Loss: 0.5485, Test Loss: 0.6535\n",
      "Epoch 16/25, Train Loss: 0.5172, Test Loss: 0.6199\n",
      "Epoch 17/25, Train Loss: 0.4901, Test Loss: 0.5901\n",
      "Epoch 18/25, Train Loss: 0.4658, Test Loss: 0.5633\n",
      "Epoch 19/25, Train Loss: 0.4444, Test Loss: 0.5396\n",
      "Epoch 20/25, Train Loss: 0.4250, Test Loss: 0.5187\n",
      "Epoch 21/25, Train Loss: 0.4082, Test Loss: 0.4995\n",
      "Epoch 22/25, Train Loss: 0.3929, Test Loss: 0.4826\n",
      "Epoch 23/25, Train Loss: 0.3794, Test Loss: 0.4671\n",
      "Epoch 24/25, Train Loss: 0.3673, Test Loss: 0.4530\n",
      "Epoch 25/25, Train Loss: 0.3565, Test Loss: 0.4402\n"
     ]
    }
   ],
   "source": [
    "def calculate_loss(model, loss_fn, data_loader):\n",
    "    total_loss = 0.0\n",
    "    total_samples = 0\n",
    "    with torch.no_grad():\n",
    "        for inputs, targets in data_loader:\n",
    "            outputs = model(inputs)\n",
    "            loss = loss_fn(outputs, targets)\n",
    "            total_loss += loss.item() * inputs.size(0)\n",
    "            total_samples += inputs.size(0)\n",
    "    return total_loss / total_samples\n",
    "\n",
    "for epoch in range(num_epochs):\n",
    "    train_loss = 0.0\n",
    "    for inputs, targets in train_loader:\n",
    "        first_optimizer.zero_grad()\n",
    "        outputs = first_model(inputs)\n",
    "        loss = loss_fn1(outputs, targets)\n",
    "        loss.backward()\n",
    "        first_optimizer.step()\n",
    "        train_loss += loss.item() * inputs.size(0)\n",
    "    train_loss /= len(train_loader.dataset)\n",
    "    train_losses.append(train_loss)\n",
    "\n",
    "    first_model.eval()\n",
    "    test_loss = calculate_loss(first_model, loss_fn1, test_loader)\n",
    "    test_losses.append(test_loss)\n",
    "\n",
    "    print(f'Epoch {epoch+1}/{num_epochs}, Train Loss: {train_loss:.4f}, Test Loss: {test_loss:.4f}')"
   ]
  },
  {
   "cell_type": "markdown",
   "id": "59c56eb8",
   "metadata": {},
   "source": [
    "В данном случае, значение Train Loss (0.3611) немного выше, чем Test Loss (0.3467). Это может указывать на то, что модель немного переобучена, то есть она слишком хорошо подстроилась под тренировочные данные и не так хорошо обобщает на новые данные. Однако, разница не критически большая, и модель может быть приемлемой в использовании."
   ]
  },
  {
   "cell_type": "code",
   "execution_count": 24,
   "id": "1d1decc8",
   "metadata": {},
   "outputs": [
    {
     "data": {
      "image/png": "[encoded data removed]",
      "text/plain": [
       "<Figure size 640x480 with 1 Axes>"
      ]
     },
     "metadata": {},
     "output_type": "display_data"
    }
   ],
   "source": [
    "plt.plot(range(1, num_epochs+1), train_losses, label='Train Loss')\n",
    "plt.plot(range(1, num_epochs+1), test_losses, label='Test Loss')\n",
    "plt.xlabel('Epoch')\n",
    "plt.ylabel('Loss')\n",
    "plt.title('Learning Curve')\n",
    "plt.legend()\n",
    "plt.show()"
   ]
  },
  {
   "cell_type": "markdown",
   "id": "747ae8e1",
   "metadata": {},
   "source": [
    "### Нейросеть с одним скрытым слоем"
   ]
  },
  {
   "cell_type": "code",
   "execution_count": 25,
   "id": "9cd7e3cb",
   "metadata": {},
   "outputs": [],
   "source": [
    "input_size = 9\n",
    "output_size = 1\n",
    "learning_rate = 1e-2"
   ]
  },
  {
   "cell_type": "code",
   "execution_count": 26,
   "id": "6bb36834",
   "metadata": {},
   "outputs": [],
   "source": [
    "hidden_size = 4\n",
    "num_epochs = 50"
   ]
  },
  {
   "cell_type": "code",
   "execution_count": 27,
   "id": "f3e22352",
   "metadata": {},
   "outputs": [],
   "source": [
    "second_model = nn.Sequential()\n",
    "second_model.add_module(\"first\", nn.Linear(input_size, hidden_size))\n",
    "second_model.add_module(\"first_activation\", nn.Sigmoid())\n",
    "second_model.add_module(\"second\", nn.Linear(hidden_size, output_size))"
   ]
  },
  {
   "cell_type": "code",
   "execution_count": 28,
   "id": "7a0c9e08",
   "metadata": {},
   "outputs": [
    {
     "data": {
      "text/plain": [
       "Sequential(\n",
       "  (first): Linear(in_features=9, out_features=4, bias=True)\n",
       "  (first_activation): Sigmoid()\n",
       "  (second): Linear(in_features=4, out_features=1, bias=True)\n",
       ")"
      ]
     },
     "execution_count": 28,
     "metadata": {},
     "output_type": "execute_result"
    }
   ],
   "source": [
    "loss_fn2 = nn.MSELoss()\n",
    "second_optimizer = torch.optim.Adam(second_model.parameters(), lr=learning_rate)\n",
    "second_model.train()"
   ]
  },
  {
   "cell_type": "code",
   "execution_count": 29,
   "id": "35e0eeba",
   "metadata": {},
   "outputs": [],
   "source": [
    "train_losses = []\n",
    "test_losses = []"
   ]
  },
  {
   "cell_type": "code",
   "execution_count": 30,
   "id": "fd99945c",
   "metadata": {},
   "outputs": [
    {
     "name": "stdout",
     "output_type": "stream",
     "text": [
      "Epoch 1/50, Train Loss: 75.0011, Test Loss: 69.2188\n",
      "Epoch 2/50, Train Loss: 65.6099, Test Loss: 59.6723\n",
      "Epoch 3/50, Train Loss: 55.4315, Test Loss: 49.0195\n",
      "Epoch 4/50, Train Loss: 44.5799, Test Loss: 38.4503\n",
      "Epoch 5/50, Train Loss: 34.5957, Test Loss: 29.4188\n",
      "Epoch 6/50, Train Loss: 26.3688, Test Loss: 22.1782\n",
      "Epoch 7/50, Train Loss: 19.7846, Test Loss: 16.3434\n",
      "Epoch 8/50, Train Loss: 14.3999, Test Loss: 11.4998\n",
      "Epoch 9/50, Train Loss: 9.8843, Test Loss: 7.5527\n",
      "Epoch 10/50, Train Loss: 6.3769, Test Loss: 4.6950\n",
      "Epoch 11/50, Train Loss: 3.9929, Test Loss: 2.9013\n",
      "Epoch 12/50, Train Loss: 2.5350, Test Loss: 1.8653\n",
      "Epoch 13/50, Train Loss: 1.7000, Test Loss: 1.2850\n",
      "Epoch 14/50, Train Loss: 1.2336, Test Loss: 0.9768\n",
      "Epoch 15/50, Train Loss: 0.9885, Test Loss: 0.8149\n",
      "Epoch 16/50, Train Loss: 0.8572, Test Loss: 0.7369\n",
      "Epoch 17/50, Train Loss: 0.7915, Test Loss: 0.6994\n",
      "Epoch 18/50, Train Loss: 0.7592, Test Loss: 0.6808\n",
      "Epoch 19/50, Train Loss: 0.7400, Test Loss: 0.6726\n",
      "Epoch 20/50, Train Loss: 0.7312, Test Loss: 0.6670\n",
      "Epoch 21/50, Train Loss: 0.7239, Test Loss: 0.6630\n",
      "Epoch 22/50, Train Loss: 0.7183, Test Loss: 0.6590\n",
      "Epoch 23/50, Train Loss: 0.7128, Test Loss: 0.6546\n",
      "Epoch 24/50, Train Loss: 0.7070, Test Loss: 0.6499\n",
      "Epoch 25/50, Train Loss: 0.7010, Test Loss: 0.6447\n",
      "Epoch 26/50, Train Loss: 0.6942, Test Loss: 0.6387\n",
      "Epoch 27/50, Train Loss: 0.6869, Test Loss: 0.6319\n",
      "Epoch 28/50, Train Loss: 0.6787, Test Loss: 0.6248\n",
      "Epoch 29/50, Train Loss: 0.6696, Test Loss: 0.6166\n",
      "Epoch 30/50, Train Loss: 0.6596, Test Loss: 0.6073\n",
      "Epoch 31/50, Train Loss: 0.6484, Test Loss: 0.5968\n",
      "Epoch 32/50, Train Loss: 0.6353, Test Loss: 0.5857\n",
      "Epoch 33/50, Train Loss: 0.6213, Test Loss: 0.5730\n",
      "Epoch 34/50, Train Loss: 0.6051, Test Loss: 0.5586\n",
      "Epoch 35/50, Train Loss: 0.5871, Test Loss: 0.5427\n",
      "Epoch 36/50, Train Loss: 0.5670, Test Loss: 0.5247\n",
      "Epoch 37/50, Train Loss: 0.5445, Test Loss: 0.5053\n",
      "Epoch 38/50, Train Loss: 0.5199, Test Loss: 0.4845\n",
      "Epoch 39/50, Train Loss: 0.4937, Test Loss: 0.4624\n",
      "Epoch 40/50, Train Loss: 0.4658, Test Loss: 0.4401\n",
      "Epoch 41/50, Train Loss: 0.4383, Test Loss: 0.4170\n",
      "Epoch 42/50, Train Loss: 0.4091, Test Loss: 0.3956\n",
      "Epoch 43/50, Train Loss: 0.3823, Test Loss: 0.3743\n",
      "Epoch 44/50, Train Loss: 0.3560, Test Loss: 0.3549\n",
      "Epoch 45/50, Train Loss: 0.3321, Test Loss: 0.3362\n",
      "Epoch 46/50, Train Loss: 0.3093, Test Loss: 0.3187\n",
      "Epoch 47/50, Train Loss: 0.2884, Test Loss: 0.3037\n",
      "Epoch 48/50, Train Loss: 0.2694, Test Loss: 0.2894\n",
      "Epoch 49/50, Train Loss: 0.2521, Test Loss: 0.2770\n",
      "Epoch 50/50, Train Loss: 0.2367, Test Loss: 0.2660\n"
     ]
    }
   ],
   "source": [
    "def calculate_loss(model, loss_fn, data_loader):\n",
    "    total_loss = 0.0\n",
    "    total_samples = 0\n",
    "    with torch.no_grad():\n",
    "        for inputs, targets in data_loader:\n",
    "            outputs = model(inputs)\n",
    "            loss = loss_fn(outputs, targets)\n",
    "            total_loss += loss.item() * inputs.size(0)\n",
    "            total_samples += inputs.size(0)\n",
    "    return total_loss / total_samples\n",
    "\n",
    "for epoch in range(num_epochs):\n",
    "    train_loss = 0.0\n",
    "    for inputs, targets in train_loader:\n",
    "        second_optimizer.zero_grad()\n",
    "        outputs = second_model(inputs)\n",
    "        loss = loss_fn2(outputs, targets)\n",
    "        loss.backward()\n",
    "        second_optimizer.step()\n",
    "        train_loss += loss.item() * inputs.size(0)\n",
    "    train_loss /= len(train_loader.dataset)\n",
    "    train_losses.append(train_loss)\n",
    "\n",
    "    second_model.eval()\n",
    "    test_loss = calculate_loss(second_model, loss_fn2, test_loader)\n",
    "    test_losses.append(test_loss)\n",
    "\n",
    "    print(f'Epoch {epoch+1}/{num_epochs}, Train Loss: {train_loss:.4f}, Test Loss: {test_loss:.4f}')"
   ]
  },
  {
   "cell_type": "markdown",
   "id": "de3777aa",
   "metadata": {},
   "source": [
    "В данном случае, значения Train Loss и Test Loss очень близки друг к другу, но все же значение на тренировочной выборке чуть меньше. Это может указывать на то, что модель переобучена, однако значение loss близко к нулю, это указывает на то, что модель хорошо справляется с задачей. "
   ]
  },
  {
   "cell_type": "code",
   "execution_count": 31,
   "id": "6a0cfe24",
   "metadata": {},
   "outputs": [
    {
     "data": {
      "image/png": "[encoded data removed]",
      "text/plain": [
       "<Figure size 640x480 with 1 Axes>"
      ]
     },
     "metadata": {},
     "output_type": "display_data"
    }
   ],
   "source": [
    "plt.plot(range(1, num_epochs+1), train_losses, label='Train Loss')\n",
    "plt.plot(range(1, num_epochs+1), test_losses, label='Test Loss')\n",
    "plt.xlabel('Epoch')\n",
    "plt.ylabel('Loss')\n",
    "plt.title('Learning Curve')\n",
    "plt.legend()\n",
    "plt.show()"
   ]
  },
  {
   "cell_type": "markdown",
   "id": "04ebfe70",
   "metadata": {},
   "source": [
    "### Нейросеть с тремя скрытыми слоями"
   ]
  },
  {
   "cell_type": "code",
   "execution_count": 32,
   "id": "fadf9959",
   "metadata": {},
   "outputs": [],
   "source": [
    "hidden_size1 = 7\n",
    "hidden_size2 = 5\n",
    "hidden_size3 = 2\n",
    "num_epochs = 95"
   ]
  },
  {
   "cell_type": "code",
   "execution_count": 33,
   "id": "e5d1b2fc",
   "metadata": {},
   "outputs": [],
   "source": [
    "input_size = 9\n",
    "output_size = 1\n",
    "learning_rate = 1e-2"
   ]
  },
  {
   "cell_type": "code",
   "execution_count": 34,
   "id": "be9e24f0",
   "metadata": {},
   "outputs": [],
   "source": [
    "third_model = nn.Sequential()\n",
    "third_model.add_module(\"first\", nn.Linear(input_size, hidden_size1))\n",
    "third_model.add_module(\"first_activation\", nn.Sigmoid())\n",
    "third_model.add_module(\"second\", nn.Linear(hidden_size1, hidden_size2))\n",
    "third_model.add_module(\"second_activation\", nn.Sigmoid())\n",
    "third_model.add_module(\"third\", nn.Linear(hidden_size2, hidden_size3))\n",
    "third_model.add_module(\"third_activation\", nn.Sigmoid())\n",
    "third_model.add_module(\"fourth\", nn.Linear(hidden_size3, output_size))"
   ]
  },
  {
   "cell_type": "code",
   "execution_count": 35,
   "id": "69d84f66",
   "metadata": {},
   "outputs": [
    {
     "data": {
      "text/plain": [
       "Sequential(\n",
       "  (first): Linear(in_features=9, out_features=7, bias=True)\n",
       "  (first_activation): Sigmoid()\n",
       "  (second): Linear(in_features=7, out_features=5, bias=True)\n",
       "  (second_activation): Sigmoid()\n",
       "  (third): Linear(in_features=5, out_features=2, bias=True)\n",
       "  (third_activation): Sigmoid()\n",
       "  (fourth): Linear(in_features=2, out_features=1, bias=True)\n",
       ")"
      ]
     },
     "execution_count": 35,
     "metadata": {},
     "output_type": "execute_result"
    }
   ],
   "source": [
    "loss_fn3 = nn.MSELoss()\n",
    "third_optimizer = torch.optim.Adam(third_model.parameters(), lr=learning_rate)\n",
    "third_model.train()"
   ]
  },
  {
   "cell_type": "code",
   "execution_count": 36,
   "id": "d4cad67e",
   "metadata": {},
   "outputs": [],
   "source": [
    "train_losses = []\n",
    "test_losses = []"
   ]
  },
  {
   "cell_type": "code",
   "execution_count": 37,
   "id": "e92dc9f3",
   "metadata": {},
   "outputs": [
    {
     "name": "stdout",
     "output_type": "stream",
     "text": [
      "Epoch 1/95, Train Loss: 64.4649, Test Loss: 58.6363\n",
      "Epoch 2/95, Train Loss: 54.6887, Test Loss: 48.5341\n",
      "Epoch 3/95, Train Loss: 44.8820, Test Loss: 39.5707\n",
      "Epoch 4/95, Train Loss: 36.7921, Test Loss: 32.5676\n",
      "Epoch 5/95, Train Loss: 30.4170, Test Loss: 26.9120\n",
      "Epoch 6/95, Train Loss: 25.1721, Test Loss: 22.2169\n",
      "Epoch 7/95, Train Loss: 20.7953, Test Loss: 18.2902\n",
      "Epoch 8/95, Train Loss: 17.1490, Test Loss: 14.9936\n",
      "Epoch 9/95, Train Loss: 14.0831, Test Loss: 12.2551\n",
      "Epoch 10/95, Train Loss: 11.5325, Test Loss: 9.9764\n",
      "Epoch 11/95, Train Loss: 9.4039, Test Loss: 8.1047\n",
      "Epoch 12/95, Train Loss: 7.6574, Test Loss: 6.5553\n",
      "Epoch 13/95, Train Loss: 6.2264, Test Loss: 5.2863\n",
      "Epoch 14/95, Train Loss: 5.0519, Test Loss: 4.2711\n",
      "Epoch 15/95, Train Loss: 4.1100, Test Loss: 3.4606\n",
      "Epoch 16/95, Train Loss: 3.3620, Test Loss: 2.8138\n",
      "Epoch 17/95, Train Loss: 2.7604, Test Loss: 2.3124\n",
      "Epoch 18/95, Train Loss: 2.3021, Test Loss: 1.9133\n",
      "Epoch 19/95, Train Loss: 1.9335, Test Loss: 1.6167\n",
      "Epoch 20/95, Train Loss: 1.6575, Test Loss: 1.3890\n",
      "Epoch 21/95, Train Loss: 1.4432, Test Loss: 1.2201\n",
      "Epoch 22/95, Train Loss: 1.2849, Test Loss: 1.0919\n",
      "Epoch 23/95, Train Loss: 1.1645, Test Loss: 0.9989\n",
      "Epoch 24/95, Train Loss: 1.0771, Test Loss: 0.9313\n",
      "Epoch 25/95, Train Loss: 1.0133, Test Loss: 0.8832\n",
      "Epoch 26/95, Train Loss: 0.9654, Test Loss: 0.8514\n",
      "Epoch 27/95, Train Loss: 0.9341, Test Loss: 0.8274\n",
      "Epoch 28/95, Train Loss: 0.9103, Test Loss: 0.8115\n",
      "Epoch 29/95, Train Loss: 0.8926, Test Loss: 0.8022\n",
      "Epoch 30/95, Train Loss: 0.8822, Test Loss: 0.7953\n",
      "Epoch 31/95, Train Loss: 0.8743, Test Loss: 0.7912\n",
      "Epoch 32/95, Train Loss: 0.8687, Test Loss: 0.7891\n",
      "Epoch 33/95, Train Loss: 0.8656, Test Loss: 0.7877\n",
      "Epoch 34/95, Train Loss: 0.8632, Test Loss: 0.7871\n",
      "Epoch 35/95, Train Loss: 0.8615, Test Loss: 0.7870\n",
      "Epoch 36/95, Train Loss: 0.8607, Test Loss: 0.7871\n",
      "Epoch 37/95, Train Loss: 0.8599, Test Loss: 0.7872\n",
      "Epoch 38/95, Train Loss: 0.8595, Test Loss: 0.7874\n",
      "Epoch 39/95, Train Loss: 0.8594, Test Loss: 0.7879\n",
      "Epoch 40/95, Train Loss: 0.8590, Test Loss: 0.7881\n",
      "Epoch 41/95, Train Loss: 0.8590, Test Loss: 0.7883\n",
      "Epoch 42/95, Train Loss: 0.8589, Test Loss: 0.7884\n",
      "Epoch 43/95, Train Loss: 0.8590, Test Loss: 0.7883\n",
      "Epoch 44/95, Train Loss: 0.8590, Test Loss: 0.7887\n",
      "Epoch 45/95, Train Loss: 0.8589, Test Loss: 0.7887\n",
      "Epoch 46/95, Train Loss: 0.8589, Test Loss: 0.7890\n",
      "Epoch 47/95, Train Loss: 0.8589, Test Loss: 0.7890\n",
      "Epoch 48/95, Train Loss: 0.8589, Test Loss: 0.7890\n",
      "Epoch 49/95, Train Loss: 0.8589, Test Loss: 0.7890\n",
      "Epoch 50/95, Train Loss: 0.8588, Test Loss: 0.7888\n",
      "Epoch 51/95, Train Loss: 0.8591, Test Loss: 0.7892\n",
      "Epoch 52/95, Train Loss: 0.8589, Test Loss: 0.7889\n",
      "Epoch 53/95, Train Loss: 0.8590, Test Loss: 0.7888\n",
      "Epoch 54/95, Train Loss: 0.8589, Test Loss: 0.7892\n",
      "Epoch 55/95, Train Loss: 0.8588, Test Loss: 0.7890\n",
      "Epoch 56/95, Train Loss: 0.8590, Test Loss: 0.7890\n",
      "Epoch 57/95, Train Loss: 0.8590, Test Loss: 0.7888\n",
      "Epoch 58/95, Train Loss: 0.8590, Test Loss: 0.7891\n",
      "Epoch 59/95, Train Loss: 0.8588, Test Loss: 0.7890\n",
      "Epoch 60/95, Train Loss: 0.8592, Test Loss: 0.7887\n",
      "Epoch 61/95, Train Loss: 0.8588, Test Loss: 0.7888\n",
      "Epoch 62/95, Train Loss: 0.8589, Test Loss: 0.7892\n",
      "Epoch 63/95, Train Loss: 0.8588, Test Loss: 0.7890\n",
      "Epoch 64/95, Train Loss: 0.8589, Test Loss: 0.7887\n",
      "Epoch 65/95, Train Loss: 0.8588, Test Loss: 0.7889\n",
      "Epoch 66/95, Train Loss: 0.8589, Test Loss: 0.7892\n",
      "Epoch 67/95, Train Loss: 0.8588, Test Loss: 0.7890\n",
      "Epoch 68/95, Train Loss: 0.8589, Test Loss: 0.7888\n",
      "Epoch 69/95, Train Loss: 0.8588, Test Loss: 0.7888\n",
      "Epoch 70/95, Train Loss: 0.8590, Test Loss: 0.7892\n",
      "Epoch 71/95, Train Loss: 0.8588, Test Loss: 0.7889\n",
      "Epoch 72/95, Train Loss: 0.8588, Test Loss: 0.7887\n",
      "Epoch 73/95, Train Loss: 0.8589, Test Loss: 0.7887\n",
      "Epoch 74/95, Train Loss: 0.8588, Test Loss: 0.7887\n",
      "Epoch 75/95, Train Loss: 0.8588, Test Loss: 0.7889\n",
      "Epoch 76/95, Train Loss: 0.8588, Test Loss: 0.7888\n",
      "Epoch 77/95, Train Loss: 0.8588, Test Loss: 0.7887\n",
      "Epoch 78/95, Train Loss: 0.8588, Test Loss: 0.7889\n",
      "Epoch 79/95, Train Loss: 0.8588, Test Loss: 0.7891\n",
      "Epoch 80/95, Train Loss: 0.8588, Test Loss: 0.7888\n",
      "Epoch 81/95, Train Loss: 0.8589, Test Loss: 0.7888\n",
      "Epoch 82/95, Train Loss: 0.8588, Test Loss: 0.7888\n",
      "Epoch 83/95, Train Loss: 0.8589, Test Loss: 0.7890\n",
      "Epoch 84/95, Train Loss: 0.8588, Test Loss: 0.7890\n",
      "Epoch 85/95, Train Loss: 0.8588, Test Loss: 0.7890\n",
      "Epoch 86/95, Train Loss: 0.8589, Test Loss: 0.7886\n",
      "Epoch 87/95, Train Loss: 0.8588, Test Loss: 0.7889\n",
      "Epoch 88/95, Train Loss: 0.8588, Test Loss: 0.7890\n",
      "Epoch 89/95, Train Loss: 0.8588, Test Loss: 0.7890\n",
      "Epoch 90/95, Train Loss: 0.8590, Test Loss: 0.7895\n",
      "Epoch 91/95, Train Loss: 0.8588, Test Loss: 0.7893\n",
      "Epoch 92/95, Train Loss: 0.8593, Test Loss: 0.7885\n",
      "Epoch 93/95, Train Loss: 0.8590, Test Loss: 0.7888\n",
      "Epoch 94/95, Train Loss: 0.8588, Test Loss: 0.7888\n",
      "Epoch 95/95, Train Loss: 0.8590, Test Loss: 0.7885\n"
     ]
    }
   ],
   "source": [
    "def calculate_loss(model, loss_fn, data_loader):\n",
    "    total_loss = 0.0\n",
    "    total_samples = 0\n",
    "    with torch.no_grad():\n",
    "        for inputs, targets in data_loader:\n",
    "            outputs = model(inputs)\n",
    "            loss = loss_fn(outputs, targets)\n",
    "            total_loss += loss.item() * inputs.size(0)\n",
    "            total_samples += inputs.size(0)\n",
    "    return total_loss / total_samples\n",
    "\n",
    "for epoch in range(num_epochs):\n",
    "    train_loss = 0.0\n",
    "    for inputs, targets in train_loader:\n",
    "        third_optimizer.zero_grad()\n",
    "        outputs = third_model(inputs)\n",
    "        loss = loss_fn3(outputs, targets)\n",
    "        loss.backward()\n",
    "        third_optimizer.step()\n",
    "        train_loss += loss.item() * inputs.size(0)\n",
    "    train_loss /= len(train_loader.dataset)\n",
    "    train_losses.append(train_loss)\n",
    "\n",
    "    third_model.eval()\n",
    "    test_loss = calculate_loss(third_model, loss_fn3, test_loader)\n",
    "    test_losses.append(test_loss)\n",
    "\n",
    "    print(f'Epoch {epoch+1}/{num_epochs}, Train Loss: {train_loss:.4f}, Test Loss: {test_loss:.4f}')"
   ]
  },
  {
   "cell_type": "markdown",
   "id": "c1dda2d0",
   "metadata": {},
   "source": [
    "Разница между Train Loss и Test Loss не очень большая. В целом, такие значения могут свидетельствовать о том, что модель не достигла оптимальной производительности и возможно потребуется улучшения (например, увеличение эпох)."
   ]
  },
  {
   "cell_type": "code",
   "execution_count": 38,
   "id": "1a8bf9a7",
   "metadata": {},
   "outputs": [
    {
     "data": {
      "image/png": "[encoded data removed]",
      "text/plain": [
       "<Figure size 640x480 with 1 Axes>"
      ]
     },
     "metadata": {},
     "output_type": "display_data"
    }
   ],
   "source": [
    "plt.plot(range(1, num_epochs+1), train_losses, label='Train Loss')\n",
    "plt.plot(range(1, num_epochs+1), test_losses, label='Test Loss')\n",
    "plt.xlabel('Epoch')\n",
    "plt.ylabel('Loss')\n",
    "plt.title('Learning Curve')\n",
    "plt.legend()\n",
    "plt.show()"
   ]
  },
  {
   "cell_type": "markdown",
   "id": "0b70b28c",
   "metadata": {},
   "source": [
    "## 6. Метрики mae"
   ]
  },
  {
   "cell_type": "code",
   "execution_count": 39,
   "id": "a9806d8a",
   "metadata": {},
   "outputs": [],
   "source": [
    "from sklearn.metrics import mean_absolute_error"
   ]
  },
  {
   "cell_type": "markdown",
   "id": "29b653ed",
   "metadata": {},
   "source": [
    "### Однослойная нейросеть"
   ]
  },
  {
   "cell_type": "code",
   "execution_count": 40,
   "id": "ad900454",
   "metadata": {},
   "outputs": [
    {
     "name": "stdout",
     "output_type": "stream",
     "text": [
      "Train test \n",
      " MAE: 0.44940668\n"
     ]
    }
   ],
   "source": [
    "train_predictions = []\n",
    "train_targets = []\n",
    "\n",
    "for inputs, targets in train_loader:\n",
    "    predictions = first_model(inputs).detach().numpy()\n",
    "    train_predictions.extend(predictions)\n",
    "\n",
    "    train_targets.extend(targets.numpy())\n",
    "\n",
    "train_mae = mean_absolute_error(train_targets, train_predictions)\n",
    "print(\"Train test \\n MAE:\", train_mae)"
   ]
  },
  {
   "cell_type": "code",
   "execution_count": 41,
   "id": "f64da68e",
   "metadata": {},
   "outputs": [
    {
     "name": "stdout",
     "output_type": "stream",
     "text": [
      "Test test \n",
      " MAE: 0.47699395\n"
     ]
    }
   ],
   "source": [
    "test_predictions = []\n",
    "test_targets = []\n",
    "\n",
    "for inputs, targets in test_loader:\n",
    "    predictions = first_model(inputs).detach().numpy()\n",
    "    test_predictions.extend(predictions)\n",
    "    \n",
    "    test_targets.extend(targets.numpy())\n",
    "\n",
    "test_mae = mean_absolute_error(test_targets, test_predictions)\n",
    "print(\"Test test \\n MAE:\", test_mae)"
   ]
  },
  {
   "cell_type": "markdown",
   "id": "1fa08cbe",
   "metadata": {},
   "source": [
    "В результате для тренировочной выборки была получена метрика mae, равная 0.45. Иэ этого следует, что предсказанные значения близки к истинным значениям. Кроме того для тестовой выборки значение метрики также недалеки от нуля, что указывает на то, что модель хорошо обучается на новых данных. В целом разница между MAE для тренировочного и тестового наборов данных не очень велика."
   ]
  },
  {
   "cell_type": "markdown",
   "id": "5829e54c",
   "metadata": {},
   "source": [
    "### Нейросеть с одним скрытым слоем"
   ]
  },
  {
   "cell_type": "code",
   "execution_count": 42,
   "id": "3598d18e",
   "metadata": {},
   "outputs": [
    {
     "name": "stdout",
     "output_type": "stream",
     "text": [
      "Train test \n",
      " MAE: 0.34543863\n"
     ]
    }
   ],
   "source": [
    "train_predictions = []\n",
    "train_targets = []\n",
    "\n",
    "for inputs, targets in train_loader:\n",
    "    predictions = second_model(inputs).detach().numpy()\n",
    "    train_predictions.extend(predictions)\n",
    "\n",
    "    train_targets.extend(targets.numpy())\n",
    "\n",
    "train_mae = mean_absolute_error(train_targets, train_predictions)\n",
    "print(\"Train test \\n MAE:\", train_mae)"
   ]
  },
  {
   "cell_type": "code",
   "execution_count": 43,
   "id": "2d1f3453",
   "metadata": {},
   "outputs": [
    {
     "name": "stdout",
     "output_type": "stream",
     "text": [
      "Test test \n",
      " MAE: 0.36467543\n"
     ]
    }
   ],
   "source": [
    "test_predictions = []\n",
    "test_targets = []\n",
    "\n",
    "for inputs, targets in test_loader:\n",
    "    predictions = second_model(inputs).detach().numpy()\n",
    "    test_predictions.extend(predictions)\n",
    "    \n",
    "    test_targets.extend(targets.numpy())\n",
    "\n",
    "test_mae = mean_absolute_error(test_targets, test_predictions)\n",
    "print(\"Test test \\n MAE:\", test_mae)"
   ]
  },
  {
   "cell_type": "markdown",
   "id": "f560080a",
   "metadata": {},
   "source": [
    "Для тренировочной выборки средняя абсолютная ошибка равна 0.35. Иэ этого следует, что предсказанные значения близки к истинным значениям. В целом MAE для тренировочного набора близка к MAE для тестового наборов данных, что может свидетельствовать о том, что модель обобщает данные довольно неплохо."
   ]
  },
  {
   "cell_type": "markdown",
   "id": "60229b33",
   "metadata": {},
   "source": [
    "### Нейросеть с тремя скрытыми слоями"
   ]
  },
  {
   "cell_type": "code",
   "execution_count": 44,
   "id": "3a2f444d",
   "metadata": {},
   "outputs": [
    {
     "name": "stdout",
     "output_type": "stream",
     "text": [
      "Train test \n",
      " MAE: 0.7514184\n"
     ]
    }
   ],
   "source": [
    "train_predictions = []\n",
    "train_targets = []\n",
    "\n",
    "for inputs, targets in train_loader:\n",
    "    predictions = third_model(inputs).detach().numpy()\n",
    "    train_predictions.extend(predictions)\n",
    "\n",
    "    train_targets.extend(targets.numpy())\n",
    "\n",
    "train_mae = mean_absolute_error(train_targets, train_predictions)\n",
    "print(\"Train test \\n MAE:\", train_mae)"
   ]
  },
  {
   "cell_type": "code",
   "execution_count": 45,
   "id": "77ecc390",
   "metadata": {},
   "outputs": [
    {
     "name": "stdout",
     "output_type": "stream",
     "text": [
      "Test test \n",
      " MAE: 0.70322984\n"
     ]
    }
   ],
   "source": [
    "test_predictions = []\n",
    "test_targets = []\n",
    "\n",
    "for inputs, targets in test_loader:\n",
    "    predictions = third_model(inputs).detach().numpy()\n",
    "    test_predictions.extend(predictions)\n",
    "\n",
    "    test_targets.extend(targets.numpy())\n",
    "\n",
    "test_mae = mean_absolute_error(test_targets, test_predictions)\n",
    "print(\"Test test \\n MAE:\", test_mae)"
   ]
  },
  {
   "cell_type": "markdown",
   "id": "6a2a75c4",
   "metadata": {},
   "source": [
    "Результаты метрик достаточно близки к друг другу. Но значения указывают на то, что модель недообучилась."
   ]
  },
  {
   "cell_type": "code",
   "execution_count": null,
   "id": "61437b8c",
   "metadata": {},
   "outputs": [],
   "source": []
  }
 ],
 "metadata": {
  "kernelspec": {
   "display_name": "Python 3 (ipykernel)",
   "language": "python",
   "name": "python3"
  },
  "language_info": {
   "codemirror_mode": {
    "name": "ipython",
    "version": 3
   },
   "file_extension": ".py",
   "mimetype": "text/x-python",
   "name": "python",
   "nbconvert_exporter": "python",
   "pygments_lexer": "ipython3",
   "version": "3.11.5"
  }
 },
 "nbformat": 4,
 "nbformat_minor": 5
}
